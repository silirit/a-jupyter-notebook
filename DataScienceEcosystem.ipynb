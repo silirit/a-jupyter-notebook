{
 "cells": [
  {
   "cell_type": "markdown",
   "id": "ab6385f3-7853-446b-b588-8ac42557b648",
   "metadata": {},
   "source": [
    "# Data Science Tools and Ecosystem"
   ]
  },
  {
   "cell_type": "markdown",
   "id": "f83bd32d-2345-4b20-99d8-79f66d2834e2",
   "metadata": {},
   "source": [
    "In this notebook, Data Science Tools and Ecosystem are summarized."
   ]
  },
  {
   "cell_type": "markdown",
   "id": "2b760ab0-ecbc-4dbd-9164-ef20106db6c5",
   "metadata": {},
   "source": [
    "**Objectives:**\n",
    "- List popular languages for Data Science.\n",
    "- List commonly used libraries used by Data Scientists.\n",
    "- List development environment open source toolsused in data science.\n",
    "- Introducing arithmetic expression in Python.\n",
    "\n"
   ]
  },
  {
   "cell_type": "markdown",
   "id": "095f1e09-cb7d-48e6-ac60-3425a9fc4b74",
   "metadata": {},
   "source": [
    "Some of the popular languages that Data Scientists use are:\n",
    "   1. Python\n",
    "   2. R\n",
    "   3. Java\n",
    "   4. Scala\n",
    "   5. SQL"
   ]
  },
  {
   "cell_type": "markdown",
   "id": "edbd17a7-9e9f-4144-8082-bc72e5ad5299",
   "metadata": {},
   "source": [
    "Some of the commonly used libraries used by Data Scientists include:\n",
    "  1. NumPy\n",
    "  2. Pandas \n",
    "  3. Matplotlib\n",
    "  4. plotly\n",
    "  5. scikit-learn "
   ]
  },
  {
   "cell_type": "markdown",
   "id": "d09f7415-3203-4b87-a082-f45cdedd0cea",
   "metadata": {},
   "source": [
    "|Data Science Tools|\n",
    "|------------------|\n",
    "|JupyterLab|\n",
    "|RStudio|\n",
    "|Spyder|\n"
   ]
  },
  {
   "cell_type": "markdown",
   "id": "318b6e15-f30b-4c91-afb4-42d0028b1658",
   "metadata": {},
   "source": [
    "### Below are a few examples of evaluating arithmetic expressions in Python"
   ]
  },
  {
   "cell_type": "code",
   "execution_count": 3,
   "id": "be92aa8c-d0d1-4967-b9bf-89711103891c",
   "metadata": {},
   "outputs": [
    {
     "data": {
      "text/plain": [
       "17"
      ]
     },
     "execution_count": 3,
     "metadata": {},
     "output_type": "execute_result"
    }
   ],
   "source": [
    "#This a simple arithmetic expression to mutiply then add integers\n",
    "(3*4)+5"
   ]
  },
  {
   "cell_type": "code",
   "execution_count": 4,
   "id": "788eb5b7-b80f-4294-b0bb-67d1b6f3100d",
   "metadata": {},
   "outputs": [
    {
     "data": {
      "text/plain": [
       "3.3333333333333335"
      ]
     },
     "execution_count": 4,
     "metadata": {},
     "output_type": "execute_result"
    }
   ],
   "source": [
    "#This will convert 200 minutes to hours by diving by 60\n",
    "200/60"
   ]
  },
  {
   "cell_type": "markdown",
   "id": "00c6392b-eeb1-44d6-9d6d-f7fa2df4f41d",
   "metadata": {},
   "source": [
    "## Author\n",
    "Mohammed Abdulghani"
   ]
  }
 ],
 "metadata": {
  "kernelspec": {
   "display_name": "Python 3 (ipykernel)",
   "language": "python",
   "name": "python3"
  },
  "language_info": {
   "codemirror_mode": {
    "name": "ipython",
    "version": 3
   },
   "file_extension": ".py",
   "mimetype": "text/x-python",
   "name": "python",
   "nbconvert_exporter": "python",
   "pygments_lexer": "ipython3",
   "version": "3.9.12"
  }
 },
 "nbformat": 4,
 "nbformat_minor": 5
}
